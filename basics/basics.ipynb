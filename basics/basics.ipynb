{
 "cells": [
  {
   "cell_type": "markdown",
   "source": [
    "# FIRST EXERCISE"
   ],
   "metadata": {}
  },
  {
   "cell_type": "markdown",
   "source": [
    "## Questions on python basics.\r\n",
    "based on-\r\n",
    "- input, output\r\n",
    "- if else\r\n",
    "- for loop and while loop"
   ],
   "metadata": {}
  }
 ],
 "metadata": {
  "orig_nbformat": 4,
  "language_info": {
   "name": "python"
  }
 },
 "nbformat": 4,
 "nbformat_minor": 2
}